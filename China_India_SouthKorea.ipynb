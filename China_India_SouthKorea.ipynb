{
 "cells": [
  {
   "cell_type": "markdown",
   "metadata": {},
   "source": [
    "# China, India and South Korea Comparison: Sources of Growth and Development Indicators \n",
    "\n",
    "### Name: Kareena Satia \n",
    "\n",
    "### Motivation: China, India and South Korea's had roughly similar GDP per capita in 1960. This project is my attempt to compare these countries along various dimensions of interest.\n",
    "\n",
    "\n",
    "#### Data: World Development Indicators, World Bank "
   ]
  },
  {
   "cell_type": "markdown",
   "metadata": {},
   "source": [
    "### Importing necessary packages "
   ]
  },
  {
   "cell_type": "code",
   "execution_count": 1,
   "metadata": {},
   "outputs": [],
   "source": [
    "import pandas as pd\n",
    "import numpy as np\n",
    "import matplotlib.pyplot as plt\n",
    "%matplotlib inline\n",
    "import seaborn as sns\n",
    "plt.style.use('seaborn-whitegrid')\n",
    "import plotly.express as px\n",
    "from bubbly.bubbly import bubbleplot\n",
    "from plotly.offline import download_plotlyjs, init_notebook_mode, plot, iplot\n",
    "\n"
   ]
  },
  {
   "cell_type": "markdown",
   "metadata": {},
   "source": [
    "### Importing excel data in Python"
   ]
  },
  {
   "cell_type": "code",
   "execution_count": 2,
   "metadata": {},
   "outputs": [],
   "source": [
    "df = pd.read_csv(\"C:/Users/18575/Downloads/Programming/Machine Learning/World Development Indicators/Indicators.csv\")"
   ]
  },
  {
   "cell_type": "markdown",
   "metadata": {},
   "source": [
    "### Reshaping the dataframe and creating a subset of the data "
   ]
  },
  {
   "cell_type": "code",
   "execution_count": 3,
   "metadata": {},
   "outputs": [
    {
     "ename": "NameError",
     "evalue": "name 'chosen_countries' is not defined",
     "output_type": "error",
     "traceback": [
      "\u001b[1;31m---------------------------------------------------------------------------\u001b[0m",
      "\u001b[1;31mNameError\u001b[0m                                 Traceback (most recent call last)",
      "\u001b[1;32m<ipython-input-3-d2404251eddc>\u001b[0m in \u001b[0;36m<module>\u001b[1;34m()\u001b[0m\n\u001b[0;32m      3\u001b[0m \u001b[0mcountries\u001b[0m \u001b[1;33m=\u001b[0m \u001b[1;33m[\u001b[0m\u001b[1;34m'Korea, Rep.'\u001b[0m\u001b[1;33m,\u001b[0m \u001b[1;34m'India'\u001b[0m\u001b[1;33m,\u001b[0m \u001b[1;34m'China'\u001b[0m\u001b[1;33m]\u001b[0m\u001b[1;33m\u001b[0m\u001b[0m\n\u001b[0;32m      4\u001b[0m \u001b[1;33m\u001b[0m\u001b[0m\n\u001b[1;32m----> 5\u001b[1;33m \u001b[0mdf_subset1\u001b[0m \u001b[1;33m=\u001b[0m \u001b[0mdf_subset\u001b[0m\u001b[1;33m[\u001b[0m\u001b[0mdf_subset\u001b[0m\u001b[1;33m[\u001b[0m\u001b[1;34m'CountryName'\u001b[0m\u001b[1;33m]\u001b[0m\u001b[1;33m.\u001b[0m\u001b[0misin\u001b[0m\u001b[1;33m(\u001b[0m\u001b[0mchosen_countries\u001b[0m\u001b[1;33m)\u001b[0m\u001b[1;33m]\u001b[0m\u001b[1;33m\u001b[0m\u001b[0m\n\u001b[0m",
      "\u001b[1;31mNameError\u001b[0m: name 'chosen_countries' is not defined"
     ]
    }
   ],
   "source": [
    "df_subset = df.pivot_table(index=['CountryName', 'CountryCode', 'Year'], columns='IndicatorName', values='Value').reset_index()\n",
    "\n",
    "countries = ['Korea, Rep.', 'India', 'China']\n",
    "\n",
    "df_subset1 = df_subset[df_subset['CountryName'].isin(chosen_countries)]"
   ]
  },
  {
   "cell_type": "markdown",
   "metadata": {},
   "source": [
    "It is important to begin with the basis of our motivation: **GDP per capita of each of these three countries from 1960 - 2014**\n",
    "\n",
    "**Notice the overlapping lines of China and India till the early 1990s. "
   ]
  },
  {
   "cell_type": "code",
   "execution_count": null,
   "metadata": {},
   "outputs": [],
   "source": [
    "fig = px.line(df_subset1, x=\"Year\", y=\"GDP per capita (constant 2005 US$)\", color='CountryName')\n",
    "fig.update_layout(title='GDP per capita comparison' , showlegend=True)\n",
    "fig.show()"
   ]
  },
  {
   "cell_type": "markdown",
   "metadata": {},
   "source": [
    "## SOURCES OF GROWTH "
   ]
  },
  {
   "cell_type": "code",
   "execution_count": null,
   "metadata": {},
   "outputs": [],
   "source": [
    "fig1 = px.line(df_subset1, x=\"Year\", y=\"Gross capital formation (% of GDP)\", color='CountryName')\n",
    "fig1.update_layout(title='Gross Capital Formation Comparison', showlegend=True)\n",
    "fig1.show()\n"
   ]
  },
  {
   "cell_type": "code",
   "execution_count": null,
   "metadata": {},
   "outputs": [],
   "source": [
    "fig2 = px.line(df_subset1, x=\"Year\", y=\"Population growth (annual %)\", color='CountryName')\n",
    "fig2.update_layout(title='Population Comparison', showlegend=True)\n",
    "fig2.show()\n"
   ]
  },
  {
   "cell_type": "code",
   "execution_count": null,
   "metadata": {},
   "outputs": [],
   "source": [
    "fig3 = px.line(df_subset1, x=\"Year\", y=\"Age dependency ratio, young (% of working-age population)\", color='CountryName')\n",
    "fig3.update_layout(title='Working population comparison' , showlegend=True)\n",
    "fig3.show()"
   ]
  },
  {
   "cell_type": "code",
   "execution_count": null,
   "metadata": {},
   "outputs": [],
   "source": [
    "fig4 = px.line(df_subset1, x=\"Year\", y=\"Ratio of female to male labor force participation rate (%) (modeled ILO estimate)\", color='CountryName')\n",
    "fig4.update_layout(title='Labor force by gender comparison', showlegend=True)\n",
    "fig4.show()"
   ]
  },
  {
   "cell_type": "code",
   "execution_count": null,
   "metadata": {},
   "outputs": [],
   "source": [
    "fig5 = px.line(df_subset1, x=\"Year\", y=\"Research and development expenditure (% of GDP)\", color='CountryName')\n",
    "fig5.update_layout(title='R&D Comparison' , showlegend=True)\n",
    "fig5.show()"
   ]
  },
  {
   "cell_type": "code",
   "execution_count": null,
   "metadata": {},
   "outputs": [],
   "source": [
    "fig6 = px.line(df_subset1, x=\"Year\", y=\"Mobile cellular subscriptions (per 100 people)\", color='CountryName')\n",
    "fig6.update_layout(title='Mobile subscriptions comparison' , showlegend=True)\n",
    "fig6.show()"
   ]
  },
  {
   "cell_type": "code",
   "execution_count": null,
   "metadata": {},
   "outputs": [],
   "source": [
    "fig7 = px.line(df_subset1, x=\"Year\", y=\"Exports of goods and services (% of GDP)\", color='CountryName')\n",
    "fig7.update_layout(title='Exports Comparison' , showlegend=True)\n",
    "fig7.show()"
   ]
  },
  {
   "cell_type": "code",
   "execution_count": null,
   "metadata": {},
   "outputs": [],
   "source": [
    "fig8 = px.line(df_subset1, x=\"Year\", y=\"Time required to start a business (days)\", color='CountryName')\n",
    "fig8.update_layout(title='Business-friendly environment comparison' , showlegend=True)\n",
    "fig8.show()\n"
   ]
  },
  {
   "cell_type": "markdown",
   "metadata": {},
   "source": [
    "## DEVELOPMENT INDICATORS "
   ]
  },
  {
   "cell_type": "code",
   "execution_count": null,
   "metadata": {},
   "outputs": [],
   "source": [
    "fig9 = px.line(df_subset1, x=\"Year\", y=\"Life expectancy at birth, total (years)\", color='CountryName')\n",
    "fig9.update_layout(title='Life expectancy Comparison', showlegend=True)\n",
    "fig9.show()"
   ]
  },
  {
   "cell_type": "code",
   "execution_count": null,
   "metadata": {},
   "outputs": [],
   "source": [
    "fig10 = px.line(df_subset1, x=\"Year\", y=\"Fertility rate, total (births per woman)\", color='CountryName')\n",
    "fig10.update_layout(title='Fertility rate Comparison' , showlegend=True)\n",
    "fig10.show()"
   ]
  },
  {
   "cell_type": "markdown",
   "metadata": {},
   "source": [
    "### Bubble plot of GDP per capita against Fertility rate. Press 'Play' and notice how the figures move over the years. "
   ]
  },
  {
   "cell_type": "code",
   "execution_count": null,
   "metadata": {},
   "outputs": [],
   "source": [
    "figure = bubbleplot(dataset=df_subset1, x_column=\"GDP per capita (constant 2005 US$)\", y_column=\"Fertility rate, total (births per woman)\", \n",
    "bubble_column=\"CountryName\", time_column=\"Year\", color_column=\"CountryCode\", \n",
    "x_title=\"GDP per capita\", y_title=\"Fertility\",\n",
    "x_logscale=True, scale_bubble=3, height=650)\n",
    "iplot(figure, config={'scrollzoom':True})\n"
   ]
  },
  {
   "cell_type": "code",
   "execution_count": null,
   "metadata": {},
   "outputs": [],
   "source": []
  },
  {
   "cell_type": "code",
   "execution_count": null,
   "metadata": {},
   "outputs": [],
   "source": []
  }
 ],
 "metadata": {
  "kernelspec": {
   "display_name": "Python 2",
   "language": "python",
   "name": "python2"
  },
  "language_info": {
   "codemirror_mode": {
    "name": "ipython",
    "version": 2
   },
   "file_extension": ".py",
   "mimetype": "text/x-python",
   "name": "python",
   "nbconvert_exporter": "python",
   "pygments_lexer": "ipython2",
   "version": "2.7.17"
  }
 },
 "nbformat": 4,
 "nbformat_minor": 2
}
